{
  "cells": [
    {
      "cell_type": "markdown",
      "source": [
        "Linear Regression Home Work 0\n",
        "\n",
        "801333188\n",
        "\n",
        "Hanumantha Rao Vakkalanka\n"
      ],
      "metadata": {
        "id": "XeTg6XxSBIry"
      },
      "id": "XeTg6XxSBIry"
    },
    {
      "cell_type": "code",
      "source": [
        "import numpy as np\n",
        "import pandas as pd\n",
        "import matplotlib.pyplot as plt"
      ],
      "metadata": {
        "id": "Hr24W7Xf2qss"
      },
      "id": "Hr24W7Xf2qss",
      "execution_count": null,
      "outputs": []
    },
    {
      "cell_type": "code",
      "source": [
        "dataset = pd.read_csv('/content/sample_data/D3.csv')"
      ],
      "metadata": {
        "id": "h36FuHNo22h3"
      },
      "id": "h36FuHNo22h3",
      "execution_count": null,
      "outputs": []
    },
    {
      "cell_type": "code",
      "source": [
        "# Separates columns into individual arrays X1 = dataset.values[:,0]\n",
        "X1 = dataset.values[:,0]\n",
        "X2 = dataset.values[:,1]\n",
        "X3 = dataset.values[:,2]\n",
        "Y = dataset.values[:,3]"
      ],
      "metadata": {
        "id": "5t15LVVP24Hk"
      },
      "id": "5t15LVVP24Hk",
      "execution_count": null,
      "outputs": []
    },
    {
      "cell_type": "code",
      "source": [
        "data_col = len(X1) #dim of data column\n",
        "X0 = np.ones((data_col,1)) #creates X0 filled with 1s\n",
        "X1 = X1.reshape(data_col,1) #transposes explanatory columns\n",
        "X2 = X2.reshape(data_col,1)\n",
        "X3 = X3.reshape(data_col,1)\n",
        "Y = Y.reshape(data_col,1)"
      ],
      "metadata": {
        "id": "Ec2VKlqI3FXa"
      },
      "id": "Ec2VKlqI3FXa",
      "execution_count": null,
      "outputs": []
    },
    {
      "cell_type": "code",
      "source": [
        "def find_loss(X, Y, theta):\n",
        "\n",
        "    h = X.dot(theta)\n",
        "    error = np.subtract(h,Y)\n",
        "    squareError = np.square(error)\n",
        "    loss_cal = 1/(2*data_col) * np.sum(squareError) #loss calculation\n",
        "    \n",
        "    return loss_cal\n"
      ],
      "metadata": {
        "id": "tH447IIP3NsX"
      },
      "id": "tH447IIP3NsX",
      "execution_count": null,
      "outputs": []
    },
    {
      "cell_type": "code",
      "source": [
        "def find_linear_regression(X, Y, theta, alpha, iterations):\n",
        "\n",
        "\n",
        "    loss_his = np.zeros(iterations)\n",
        "    for i in range(iterations):\n",
        "        h = X.dot(theta)\n",
        "        error = np.subtract(h,Y)\n",
        "        dj_dtheta = (1/data_col) * X.transpose().dot(error) #(2,100)dot(100,1)\n",
        "        theta = theta - alpha*dj_dtheta\n",
        "        loss_his[i] = find_loss(X, Y, theta)\n",
        "\n",
        "    return theta, loss_his"
      ],
      "metadata": {
        "id": "RfqQL6hM3O1V"
      },
      "id": "RfqQL6hM3O1V",
      "execution_count": null,
      "outputs": []
    },
    {
      "cell_type": "code",
      "source": [
        "iterations = 3000\n",
        "alpha = 0.01\n",
        "X = np.hstack((X0,X1))\n",
        "theta = np.zeros((2,1))\n",
        "theta, loss_his = find_linear_regression(X, Y, theta, alpha, iterations)\n",
        "print('Theta X1 =', theta)"
      ],
      "metadata": {
        "colab": {
          "base_uri": "https://localhost:8080/"
        },
        "id": "HezCpKxc3aDv",
        "outputId": "faa9c4b0-11c7-4ea3-f463-8cbc4b93f368"
      },
      "id": "HezCpKxc3aDv",
      "execution_count": null,
      "outputs": [
        {
          "output_type": "stream",
          "name": "stdout",
          "text": [
            "Theta X1 = [[ 5.92043383]\n",
            " [-2.03541173]]\n"
          ]
        }
      ]
    },
    {
      "cell_type": "code",
      "source": [
        "plt.scatter(X1, Y)\n",
        "plt.plot(X1, X.dot(theta), color = 'red', label = 'Linear Regression')\n",
        "plt.xlabel('X1 Input')\n",
        "plt.ylabel('Y = X1 Output')\n",
        "plt.title('Linear Regression for X1')"
      ],
      "metadata": {
        "colab": {
          "base_uri": "https://localhost:8080/",
          "height": 312
        },
        "id": "lPNT0BwR3a5f",
        "outputId": "c13fbc7e-4b36-4d5f-a123-990112d0e88c"
      },
      "id": "lPNT0BwR3a5f",
      "execution_count": null,
      "outputs": [
        {
          "output_type": "execute_result",
          "data": {
            "text/plain": [
              "Text(0.5, 1.0, 'Linear Regression for X1')"
            ]
          },
          "metadata": {},
          "execution_count": 104
        },
        {
          "output_type": "display_data",
          "data": {
            "text/plain": [
              "<Figure size 432x288 with 1 Axes>"
            ],
            "image/png": "[encoded data removed]"
          },
          "metadata": {
            "needs_background": "light"
          }
        }
      ]
    },
    {
      "cell_type": "markdown",
      "source": [],
      "metadata": {
        "id": "SU8REJlfBGHs"
      },
      "id": "SU8REJlfBGHs"
    },
    {
      "cell_type": "code",
      "source": [
        "iterations = 2000\n",
        "alpha = 0.08\n",
        "X = np.hstack((X0,X2))\n",
        "theta = np.zeros((2,1))\n",
        "theta, loss_his = find_linear_regression(X, Y, theta, alpha, iterations)\n",
        "print('Theta X2 =', theta)"
      ],
      "metadata": {
        "colab": {
          "base_uri": "https://localhost:8080/"
        },
        "id": "WW2e4T9L3q01",
        "outputId": "4b4ed16e-25ca-4ac9-9515-67b9528f2d42"
      },
      "id": "WW2e4T9L3q01",
      "execution_count": null,
      "outputs": [
        {
          "output_type": "stream",
          "name": "stdout",
          "text": [
            "Theta X2 = [[0.73606043]\n",
            " [0.55760761]]\n"
          ]
        }
      ]
    },
    {
      "cell_type": "code",
      "source": [
        "plt.plot(range(1, iterations + 1), loss_his)\n",
        "plt.grid()\n",
        "plt.xlabel('Iterations')\n",
        "plt.ylabel('Loss')\n",
        "plt.title('X1 Loss per Iteration')"
      ],
      "metadata": {
        "colab": {
          "base_uri": "https://localhost:8080/",
          "height": 312
        },
        "id": "2TGkeS5C9d7t",
        "outputId": "ce8595f1-24f8-40bb-a57c-47c81cef01eb"
      },
      "id": "2TGkeS5C9d7t",
      "execution_count": null,
      "outputs": [
        {
          "output_type": "execute_result",
          "data": {
            "text/plain": [
              "Text(0.5, 1.0, 'X1 Loss per Iteration')"
            ]
          },
          "metadata": {},
          "execution_count": 106
        },
        {
          "output_type": "display_data",
          "data": {
            "text/plain": [
              "<Figure size 432x288 with 1 Axes>"
            ],
            "image/png": "[encoded data removed]"
          },
          "metadata": {
            "needs_background": "light"
          }
        }
      ]
    },
    {
      "cell_type": "code",
      "source": [
        "plt.scatter(X2, Y)\n",
        "plt.plot(X2, X.dot(theta), color = 'green', label = 'Linear Regression')\n",
        "plt.xlabel('X2 Input')\n",
        "plt.ylabel('Y = X2 Output')\n",
        "plt.title('Linear Regression for X2')"
      ],
      "metadata": {
        "colab": {
          "base_uri": "https://localhost:8080/",
          "height": 312
        },
        "id": "Ja8ip-Xo3tiH",
        "outputId": "1ab2f8eb-75d3-4b8f-f53e-1a6477fd85a3"
      },
      "id": "Ja8ip-Xo3tiH",
      "execution_count": null,
      "outputs": [
        {
          "output_type": "execute_result",
          "data": {
            "text/plain": [
              "Text(0.5, 1.0, 'Linear Regression for X2')"
            ]
          },
          "metadata": {},
          "execution_count": 107
        },
        {
          "output_type": "display_data",
          "data": {
            "text/plain": [
              "<Figure size 432x288 with 1 Axes>"
            ],
            "image/png": "[encoded data removed]"
          },
          "metadata": {
            "needs_background": "light"
          }
        }
      ]
    },
    {
      "cell_type": "code",
      "source": [
        "plt.plot(range(1, iterations + 1), loss_his)\n",
        "plt.grid()\n",
        "plt.xlabel('Iterations')\n",
        "plt.ylabel('Loss')\n",
        "plt.title('X2 Loss per Iteration')"
      ],
      "metadata": {
        "colab": {
          "base_uri": "https://localhost:8080/",
          "height": 312
        },
        "id": "zOpWSb353y3M",
        "outputId": "ee826916-7b70-467f-ea3f-edef437f6108"
      },
      "id": "zOpWSb353y3M",
      "execution_count": null,
      "outputs": [
        {
          "output_type": "execute_result",
          "data": {
            "text/plain": [
              "Text(0.5, 1.0, 'X2 Loss per Iteration')"
            ]
          },
          "metadata": {},
          "execution_count": 108
        },
        {
          "output_type": "display_data",
          "data": {
            "text/plain": [
              "<Figure size 432x288 with 1 Axes>"
            ],
            "image/png": "[encoded data removed]"
          },
          "metadata": {
            "needs_background": "light"
          }
        }
      ]
    },
    {
      "cell_type": "code",
      "source": [
        "iterations = 3000\n",
        "alpha = 0.01\n",
        "X = np.hstack((X0,X3))\n",
        "theta = np.zeros((2,1))\n",
        "theta, loss_his = find_linear_regression(X, Y, theta, alpha, iterations)\n",
        "print('Theta X3 =', theta)"
      ],
      "metadata": {
        "colab": {
          "base_uri": "https://localhost:8080/"
        },
        "id": "BrVcsxcj315f",
        "outputId": "169b5e6a-548f-4841-f58e-b6b618573f93"
      },
      "id": "BrVcsxcj315f",
      "execution_count": null,
      "outputs": [
        {
          "output_type": "stream",
          "name": "stdout",
          "text": [
            "Theta X3 = [[ 2.86831421]\n",
            " [-0.51925373]]\n"
          ]
        }
      ]
    },
    {
      "cell_type": "code",
      "source": [
        "plt.scatter(X3, Y)\n",
        "plt.plot(X3, X.dot(theta), color = 'orangered', label = 'Linear Regression')\n",
        "plt.xlabel('X3 Input')\n",
        "plt.ylabel('Y = X3 Output')\n",
        "plt.title('Linear Regression for X3')"
      ],
      "metadata": {
        "colab": {
          "base_uri": "https://localhost:8080/",
          "height": 312
        },
        "id": "rZ5bGXKy35va",
        "outputId": "54acccea-dedd-4623-d38b-366e3fece171"
      },
      "id": "rZ5bGXKy35va",
      "execution_count": null,
      "outputs": [
        {
          "output_type": "execute_result",
          "data": {
            "text/plain": [
              "Text(0.5, 1.0, 'Linear Regression for X3')"
            ]
          },
          "metadata": {},
          "execution_count": 110
        },
        {
          "output_type": "display_data",
          "data": {
            "text/plain": [
              "<Figure size 432x288 with 1 Axes>"
            ],
            "image/png": "[encoded data removed]"
          },
          "metadata": {
            "needs_background": "light"
          }
        }
      ]
    },
    {
      "cell_type": "code",
      "source": [
        "plt.plot(range(1, iterations + 1), loss_his)\n",
        "plt.grid()\n",
        "plt.xlabel('Iterations')\n",
        "plt.ylabel('Loss')\n",
        "plt.title('X3 Loss per Iteration')"
      ],
      "metadata": {
        "colab": {
          "base_uri": "https://localhost:8080/",
          "height": 312
        },
        "id": "Unxxma0H380K",
        "outputId": "ddf27176-1117-48c4-ede7-d93d0ea7b250"
      },
      "id": "Unxxma0H380K",
      "execution_count": null,
      "outputs": [
        {
          "output_type": "execute_result",
          "data": {
            "text/plain": [
              "Text(0.5, 1.0, 'X3 Loss per Iteration')"
            ]
          },
          "metadata": {},
          "execution_count": 111
        },
        {
          "output_type": "display_data",
          "data": {
            "text/plain": [
              "<Figure size 432x288 with 1 Axes>"
            ],
            "image/png": "[encoded data removed]"
          },
          "metadata": {
            "needs_background": "light"
          }
        }
      ]
    },
    {
      "cell_type": "code",
      "source": [
        "iterations = 3000\n",
        "alpha = 0.1\n",
        "X = np.hstack((X0,X1,X2,X3))\n",
        "theta = np.zeros((4,1))\n"
      ],
      "metadata": {
        "id": "eTmAxi3R4ACT"
      },
      "id": "eTmAxi3R4ACT",
      "execution_count": null,
      "outputs": []
    },
    {
      "cell_type": "code",
      "source": [
        "stheta, loss_history = find_linear_regression(X, Y, theta, alpha, iterations)\n",
        "print('Theta X_all =', theta)"
      ],
      "metadata": {
        "colab": {
          "base_uri": "https://localhost:8080/"
        },
        "id": "IRYrqa5w4Cdy",
        "outputId": "8cff7cf8-30a9-4106-b872-9e1d1151da8b"
      },
      "id": "IRYrqa5w4Cdy",
      "execution_count": null,
      "outputs": [
        {
          "output_type": "stream",
          "name": "stdout",
          "text": [
            "Theta X_all = [[0.]\n",
            " [0.]\n",
            " [0.]\n",
            " [0.]]\n"
          ]
        }
      ]
    },
    {
      "cell_type": "code",
      "source": [
        "plt.plot(range(1, iterations + 1), loss_his)\n",
        "plt.grid()\n",
        "plt.xlabel('Iterations')\n",
        "plt.ylabel('Loss')\n",
        "plt.title('X_all Loss per Iteration, alpha = 0.1')"
      ],
      "metadata": {
        "colab": {
          "base_uri": "https://localhost:8080/",
          "height": 312
        },
        "id": "eiu_77Ba5T6L",
        "outputId": "3c1ce6bb-29f9-4939-e979-12dadbe6cad9"
      },
      "id": "eiu_77Ba5T6L",
      "execution_count": null,
      "outputs": [
        {
          "output_type": "execute_result",
          "data": {
            "text/plain": [
              "Text(0.5, 1.0, 'X_all Loss per Iteration, alpha = 0.1')"
            ]
          },
          "metadata": {},
          "execution_count": 114
        },
        {
          "output_type": "display_data",
          "data": {
            "text/plain": [
              "<Figure size 432x288 with 1 Axes>"
            ],
            "image/png": "[encoded data removed]"
          },
          "metadata": {
            "needs_background": "light"
          }
        }
      ]
    },
    {
      "cell_type": "code",
      "source": [
        "# Predicted Values\n",
        "predt1 = np.array([1,1,1,1])\n",
        "predt1 = predt1.dot(theta)\n",
        "print('Prediction(1,1,1) =', predt1)\n",
        "predt2 = np.array([1,2,0,4])\n",
        "predt2 = predt2.dot(theta)\n",
        "print('Prediction(2,0,4) =', predt2)\n",
        "predt3 = np.array([1,3,2,1])\n",
        "predt3 = predt3.dot(theta)\n",
        "print('Prediction(3,2,1) =', predt3)"
      ],
      "metadata": {
        "colab": {
          "base_uri": "https://localhost:8080/"
        },
        "id": "2-K5D5GJ5ZWt",
        "outputId": "60d58c5c-6761-4475-cd19-355440c84e4c"
      },
      "id": "2-K5D5GJ5ZWt",
      "execution_count": 116,
      "outputs": [
        {
          "output_type": "stream",
          "name": "stdout",
          "text": [
            "Prediction(1,1,1) = [0.]\n",
            "Prediction(2,0,4) = [0.]\n",
            "Prediction(3,2,1) = [0.]\n"
          ]
        }
      ]
    }
  ],
  "nbformat": 4,
  "nbformat_minor": 5,
  "metadata": {
    "colab": {
      "provenance": []
    },
    "language_info": {
      "name": "python"
    },
    "kernelspec": {
      "name": "python3",
      "display_name": "Python 3"
    },
    "gpuClass": "standard"
  }
}